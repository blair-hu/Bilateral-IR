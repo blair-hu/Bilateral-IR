{
 "cells": [
  {
   "cell_type": "markdown",
   "metadata": {},
   "source": [
    "## Prepare Data for Statistical Analyses in R using Pandas"
   ]
  },
  {
   "cell_type": "code",
   "execution_count": 1,
   "metadata": {
    "collapsed": true
   },
   "outputs": [],
   "source": [
    "import numpy as np\n",
    "import scipy.io as sio\n",
    "import pandas as pd"
   ]
  },
  {
   "cell_type": "code",
   "execution_count": 2,
   "metadata": {
    "collapsed": true
   },
   "outputs": [],
   "source": [
    "subjects = ['AB156','AB185','AB186','AB188','AB189','AB190','AB191','AB192','AB193','AB194']\n",
    "classifiers = ['LDA','SVM','ANN','SRC']\n",
    "df = pd.DataFrame()"
   ]
  },
  {
   "cell_type": "code",
   "execution_count": 3,
   "metadata": {
    "collapsed": true
   },
   "outputs": [],
   "source": [
    "for delaystr in ['0Delay']:      \n",
    "    erates_temp = sio.loadmat('AllSubs_' + delaystr + '_SensorClassifierCombos.mat')\n",
    "    erates_all = erates_temp['withinerror']\n",
    "    erates_ss = erates_temp['withinsserror']\n",
    "    erates_t = erates_temp['withinterror']    \n",
    "    sensors = erates_all[0,1:]\n",
    "    sensornums = np.asarray(range(1,34))\n",
    "    for subind in range(0,10):\n",
    "        for classifierind in np.arange(0,4):\n",
    "            subjecttemp = np.tile(subjects[subind],[33,1])\n",
    "            classifiertemp = np.tile(classifiers[classifierind],[33,1])\n",
    "            if delaystr == '0Delay':\n",
    "                delaytemp = np.tile(0,[33,1])\n",
    "            sensortemp = sensors\n",
    "            sensornumtemp = sensornums\n",
    "            e_alltemp = [None]*33\n",
    "            e_sstemp = [None]*33\n",
    "            e_ttemp = [None]*33\n",
    "            lateralitytemp = [None]*33\n",
    "            emgtemp = [0]*33\n",
    "            goniotemp = [0]*33\n",
    "            imutemp = [0]*33\n",
    "            modalitytemp = [None]*33\n",
    "            for sensorind in np.arange(0,33):  \n",
    "                e_alltemp[sensorind] = 100.*erates_all[classifierind+1,sensorind+1].ravel()[subind]\n",
    "                e_sstemp[sensorind] = 100.*erates_ss[classifierind+1,sensorind+1].ravel()[subind]\n",
    "                e_ttemp[sensorind] = 100.*erates_t[classifierind+1,sensorind+1].ravel()[subind]\n",
    "                if sensorind in [0,1,2,3,4,5,6,17,18,21,22,25,26]:\n",
    "                    lateralitytemp[sensorind] = 1 # Ipsilateral\n",
    "                elif sensorind in [29,30,31,32]:\n",
    "                    lateralitytemp[sensorind] = -1 # Contralateral\n",
    "                else:\n",
    "                    lateralitytemp[sensorind] = 2 # Bilateral\n",
    "                if sensorind in [0,13,29]:\n",
    "                    modalitytemp[sensorind] = 1 # EMG\n",
    "                if sensorind in [1,14,30]:\n",
    "                    modalitytemp[sensorind] = 2 # GONIO\n",
    "                if sensorind in [2,15,31]:\n",
    "                    modalitytemp[sensorind] = 3 # IMU\n",
    "                if sensorind in [6,16,32]:\n",
    "                    modalitytemp[sensorind] = 4 # ALL\n",
    "                if sensorind in [0,3,4,6,7,8,9,10,11,12,13,16,17,18,19,20,29]:\n",
    "                    emgtemp[sensorind] = 1 # Contains some EMG\n",
    "                if sensorind in [1,3,5,6,7,8,9,10,11,12,14,16,21,22,23,24,30]:\n",
    "                    goniotemp[sensorind] = 1 # Contains some GONIO\n",
    "                if sensorind in [2,4,5,6,7,8,9,10,11,12,15,16,25,26,27,28,31]:\n",
    "                    imutemp[sensorind] = 1 # Contains some IMU\n",
    "\n",
    "            tempdict = {'Subject': subjecttemp.ravel(),'Classifier': classifiertemp.ravel(),'Delay': delaytemp.ravel(),'Sensors': sensortemp.ravel(),'SensorKey': sensornumtemp.ravel(),'Modality': modalitytemp,'EMG': emgtemp,'GONIO': goniotemp,'IMU': imutemp,'Laterality': lateralitytemp,'Overall': np.asarray(e_alltemp),'SS': np.asarray(e_sstemp),'T': np.asarray(e_ttemp)}\n",
    "            tempdf = pd.DataFrame(tempdict)\n",
    "            df = df.append(tempdf,ignore_index=True)"
   ]
  },
  {
   "cell_type": "code",
   "execution_count": 4,
   "metadata": {
    "collapsed": true
   },
   "outputs": [],
   "source": [
    "cols = ['Subject','Classifier','Delay','Sensors','SensorKey','Modality','EMG','GONIO','IMU','Laterality','Overall','SS','T']\n",
    "df = df[cols]"
   ]
  },
  {
   "cell_type": "code",
   "execution_count": 5,
   "metadata": {
    "collapsed": true
   },
   "outputs": [],
   "source": [
    "writer = pd.ExcelWriter('AllSubsErrors_ForStats.xlsx')\n",
    "df.to_excel(writer,'Sheet1')\n",
    "writer.save()"
   ]
  },
  {
   "cell_type": "code",
   "execution_count": null,
   "metadata": {
    "collapsed": true
   },
   "outputs": [],
   "source": [
    "GONIO_df = df[(df.Sensors == 'KNEE(I)') | (df.Sensors == 'ANKLE(I)') | (df.Sensors == 'GONIO(I)') | (df.Sensors == 'GONIO(I)/KNEE(C)') | (df.Sensors == 'GONIO(I)/ANKLE(C)') | (df.Sensors == 'BILAT GONIO')]\n",
    "EMG_df = df[(df.Sensors == 'EMG LL(I)') | (df.Sensors == 'EMG UL(I)') | (df.Sensors == 'EMG(I)') | (df.Sensors == 'EMG(I)/EMG LL(C)') | (df.Sensors == 'EMG(I)/EMG UL(C)') | (df.Sensors == 'BILAT EMG')]\n",
    "IMU_df = df[(df.Sensors == 'SHANK(I)') | (df.Sensors == 'THIGH(I)') | (df.Sensors == 'IMU(I)') | (df.Sensors == 'IMU(I)/SHANK(C)') | (df.Sensors == 'IMU(I)/THIGH(C)') | (df.Sensors == 'BILAT IMU')]\n",
    "subsetdf = df[(df.Sensors == 'EMG(I)') | (df.Sensors == 'GONIO(I)') | (df.Sensors == 'IMU(I)') | (df.Sensors == 'IPSI ALL') | (df.Sensors == 'BILAT EMG') | (df.Sensors == 'BILAT GONIO') | (df.Sensors == 'BILAT IMU') | (df.Sensors == 'BILAT ALL')]"
   ]
  },
  {
   "cell_type": "markdown",
   "metadata": {},
   "source": [
    "##### SFS to Excel"
   ]
  },
  {
   "cell_type": "code",
   "execution_count": 9,
   "metadata": {
    "collapsed": true
   },
   "outputs": [],
   "source": [
    "subjects = ['AB156','AB185','AB186','AB188','AB189','AB190','AB191','AB192','AB193','AB194']\n",
    "df1 = pd.DataFrame()"
   ]
  },
  {
   "cell_type": "code",
   "execution_count": 10,
   "metadata": {
    "collapsed": true
   },
   "outputs": [],
   "source": [
    "sfs_erates_temp = sio.loadmat('contra_kin_sfs_results.mat')\n",
    "\n",
    "contra_erates_all = sfs_erates_temp['contra_err']\n",
    "contra_erates_ss = sfs_erates_temp['contra_ss_err']\n",
    "contra_erates_t = sfs_erates_temp['contra_t_err']    "
   ]
  },
  {
   "cell_type": "code",
   "execution_count": 11,
   "metadata": {},
   "outputs": [],
   "source": [
    "for subind in range(0,10):\n",
    "    subjecttemp = np.tile(subjects[subind],[5,1])\n",
    "    sfs_e_alltemp = [None]*5\n",
    "    sfs_e_sstemp = [None]*5\n",
    "    sfs_e_ttemp = [None]*5\n",
    "    iter_temp = [0]*5\n",
    "    for iteration in np.arange(0,5):\n",
    "        sfs_e_alltemp[iteration] = contra_erates_all[iteration,subind]\n",
    "        sfs_e_sstemp[iteration] = contra_erates_ss[iteration,subind]\n",
    "        sfs_e_ttemp[iteration] = contra_erates_t[iteration,subind]\n",
    "        iter_temp[iteration] = iteration\n",
    "        \n",
    "    tempdict1 = {'Subject': subjecttemp.ravel(),'Iteration':np.asarray(iter_temp),'Overall': np.asarray(sfs_e_alltemp),'SS': np.asarray(sfs_e_sstemp),'T': np.asarray(sfs_e_ttemp)}\n",
    "    tempdf1 = pd.DataFrame(tempdict1)\n",
    "    df1 = df1.append(tempdf1,ignore_index=True)\n",
    "\n",
    "cols = ['Subject','Iteration','Overall','SS','T']\n",
    "df1 = df1[cols]"
   ]
  },
  {
   "cell_type": "code",
   "execution_count": 12,
   "metadata": {
    "collapsed": true
   },
   "outputs": [],
   "source": [
    "writer1 = pd.ExcelWriter('AllSubsSFS_ForStats.xlsx')\n",
    "df1.to_excel(writer1,'Sheet1')\n",
    "writer1.save()"
   ]
  },
  {
   "cell_type": "code",
   "execution_count": null,
   "metadata": {
    "collapsed": true
   },
   "outputs": [],
   "source": []
  }
 ],
 "metadata": {
  "anaconda-cloud": {},
  "kernelspec": {
   "display_name": "Python 2",
   "language": "python",
   "name": "python2"
  },
  "language_info": {
   "codemirror_mode": {
    "name": "ipython",
    "version": 2
   },
   "file_extension": ".py",
   "mimetype": "text/x-python",
   "name": "python",
   "nbconvert_exporter": "python",
   "pygments_lexer": "ipython2",
   "version": "2.7.13"
  }
 },
 "nbformat": 4,
 "nbformat_minor": 1
}
